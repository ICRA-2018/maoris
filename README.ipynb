{
 "cells": [
  {
   "cell_type": "markdown",
   "metadata": {},
   "source": [
    "# MAORIS : MAp Of RIpples' Segmentation\n",
    "\n",
    "Cutting most types of maps in smaller more meaningful bits.\n",
    "\n",
    "## Description\n",
    "\n",
    "This program segment maps in semantically meaningful parts, such as rooms and corridors. It has been tested on robot build maps and sketch maps, but the principle can easily be extended to other type of maps such as city maps.\n",
    "\n",
    "![Image of a segmentation](https://raw.githubusercontent.com/MalcolmMielle/maoris/ICRA2018/Images/maoris_NLB_straighten_color.png)\n",
    "![Image of another segmentation](https://raw.githubusercontent.com/MalcolmMielle/maoris/ICRA2018/Images/maoris_Freiburg101_scan_straighten_color.png)\n",
    "\n",
    "It also provides a way to evaluate and test your own segmentation using [Matthews Correlation Coefficient](https://en.wikipedia.org/wiki/Matthews_correlation_coefficient).\n",
    "\n",
    "A little bit more about this [here](https://malcolmmielle.wordpress.com/2017/10/05/breaking-maps-apart-in-tiny-more-meaningful-bits/).\n",
    "\n",
    "## Paper \n",
    "\n",
    "The paper describing the method was accepted for publication at ICRA2017 (:D!) and should be published soon after the conference. The preprint version is [available on Arxiv](https://arxiv.org/abs/1709.09899).\n",
    "\n",
    "## How to compile\n",
    "\n",
    "### Dependencies\n",
    "\n",
    "* boost\n",
    "* openCV 2.9 or more (openCV 3 included)\n",
    "* [bettergraph](https://github.com/MalcolmMielle/BetterGraph)\n",
    "* [VoDiGrEx](https://github.com/MalcolmMielle/VoDiGrEx)\n",
    "\n",
    "Compile by doing"
   ]
  },
  {
   "cell_type": "code",
   "execution_count": null,
   "metadata": {},
   "outputs": [],
   "source": [
    "mkdir release\n",
    "cmake ..\n",
    "make"
   ]
  },
  {
   "cell_type": "markdown",
   "metadata": {},
   "source": [
    "If one need to use maoris for other project you can do"
   ]
  },
  {
   "cell_type": "code",
   "execution_count": null,
   "metadata": {},
   "outputs": [],
   "source": [
    "sudo make install"
   ]
  },
  {
   "cell_type": "markdown",
   "metadata": {},
   "source": [
    "to install and"
   ]
  },
  {
   "cell_type": "code",
   "execution_count": null,
   "metadata": {},
   "outputs": [],
   "source": [
    "sudo make uninstall"
   ]
  },
  {
   "cell_type": "markdown",
   "metadata": {},
   "source": [
    "To uninstall.\n",
    "\n",
    "## How to use maoris\n",
    "\n",
    "After compilation, you will have those executables:\n",
    "\n",
    "### For segmentation:\n",
    "\n",
    "* segmentation_live : use the webcam of your laptop to segment maps. Just take a picture of the map and its ground truth and there you go.\n",
    "\n",
    "* evaluation_2files_fodler : compare segmented images files from two folders\n",
    "\n",
    "* evaluation_gt : compare a map with a segmented ground truth image\n",
    "\n",
    "### For evaluation\n",
    "\n",
    "* evaluation_2gt : compare two segmented images\n",
    " \n",
    "* evaluation_gt_all_files : segment all maps in a folder and then compare them to all segmented ground truths in another folder\n",
    "This file returns a gnuplot dat file named `maoris_all_measures.dat` with all the data from the segmentation.\n",
    "\n",
    "* evaluation_gt_param : evaluate maoris' parameters\n",
    "This file returns four gnuplot dat files named `maoris_param_threshold.dat`, `maoris_param_margin.dat`, `maoris_param_ripples.dat`, and `maoris_param_doors.dat`, with all the data from the segmentation for each parameters.\n",
    "\n",
    "The arguments of all programs are given in the command line as in `evaluation_gt_all_files folder1 folder2 should_draw`.\n",
    "\n",
    "## Evaluating your own segmentations\n",
    "\n",
    "You can evaluate your own segmentation results to ground truths by doing:"
   ]
  },
  {
   "cell_type": "code",
   "execution_count": null,
   "metadata": {},
   "outputs": [],
   "source": [
    "evaluation_2files_fodler folder_with_your_segmentation folder_with_your_ground_truth"
   ]
  },
  {
   "cell_type": "markdown",
   "metadata": {},
   "source": [
    "We also provide segmentation by maoris, DuDe and a Voronoi based segmentation. DuDe segmentation results are in `Test/RobotMap/DuDe_results` for the robot maps and `Test/Sketches/DuDe` for the sketch maps. The Voronoi based segmentation results are in `Test/RobotMap/Voronoi` for the robot maps and `Test/Sketches/Voronoi` for the sketch maps. maoris segmentation results are in `Test/RobotMap/maoris` for the robot maps and `Test/Sketches/maoris` for the sketch maps."
   ]
  }
 ],

 "metadata": {
  "kernelspec": {
   "display_name": "Bash",
   "language": "bash",
   "name": "bash"
  },
  "language_info": {
   "codemirror_mode": "shell",
   "file_extension": ".sh",
   "mimetype": "text/x-sh",
   "name": "bash"
  }
 },
 "nbformat": 4,
 "nbformat_minor": 2
}
